{
 "cells": [
  {
   "cell_type": "markdown",
   "metadata": {},
   "source": [
    "## Image registration\n",
    "\n",
    "https://en.wikipedia.org/wiki/Image_registration\n",
    "\n",
    "1. Intensity-based vs feature based\n",
    "    1. Intensity-based: compare intensity patterns in images via correlation metrics\n",
    "    2. feature-based: find correspondence between image features such as points, lines, and contours\n",
    "2. **Transformation models**\n",
    "    1. Linear -- Affine transform\n",
    "    2. Elastic or nonrigid -- locally wrapping methods\n",
    "    3. Diffeomorphic mapping -- LDDMM (Large deformation diffeomorphic metric mapping, https://en.wikipedia.org/wiki/Large_deformation_diffeomorphic_metric_mapping)\n",
    "3. Spatial and frequency domain methods (phase correlation)\n",
    "4. Single- vs multi-modality (imaging from different sources)\n",
    "\n",
    "### Optimization -- Similarity measures for image registration\n",
    "\n",
    "1. Mean square difference (intensity difference)\n",
    "2. Mutual information (or nomalized mutual information) -- most popular one\n",
    "3. Cross-correlation -- more computationally intensive than MI, can be useful for fine-scale nonlinear registration step\n",
    "4. Ratio image uniformity (this could be useful while images from different imaging modality)\n",
    "5. Landmark guidance"
   ]
  },
  {
   "cell_type": "markdown",
   "metadata": {},
   "source": [
    "## Intra-modal registration\n",
    "\n",
    "### Linear transform\n",
    "Y = T X + b\n",
    "### Rigid body transform\n",
    "Rotation and translation.\n",
    "### Affine transform\n",
    "Rotation, translation, scaling and shears.\n"
   ]
  },
  {
   "cell_type": "code",
   "execution_count": null,
   "metadata": {},
   "outputs": [],
   "source": []
  },
  {
   "cell_type": "markdown",
   "metadata": {},
   "source": [
    "## Inter-modal registration\n",
    "\n",
    "### Nonliear transform -- Large deformation diffeomorphic metric mapping (LDDMM)\n",
    "\n",
    "Image I is a diffeomorphism of template image $I_{tmp}$ as $\\psi: I_{tmp} \\rightarrow I$ and $\\psi \\in Diff_v$, and $I = I_{tmp} \\circ \\psi$ ($\\circ$ elementwise multiplication).\n",
    "\n",
    "The diffeomorphisms are generated via smooth flows $\\phi_t$ ($t\\in[0,1]$), $\\psi = \\phi_1$ satisfying the  Lagrangian and Eulerian specification of the flow field associated to the ordinary differential equation, $\\frac{d}{dt}\\phi_t = v_t \\circ \\phi_t$ and $\\phi_0 = id$\n",
    "\n",
    "![](ant-syn.png)\n",
    "\n",
    "1. First term (in blue): smoothness term (or diffeomorphic regularization) -- Minimize a smooth velocity field: the geodesic path between two images. L is a smoothing operator, v is a transform (velocity field), t is time.\n",
    "2. Second term (rest): similarity metrics"
   ]
  },
  {
   "cell_type": "code",
   "execution_count": null,
   "metadata": {},
   "outputs": [],
   "source": []
  }
 ],
 "metadata": {
  "kernelspec": {
   "display_name": "Python 3",
   "language": "python",
   "name": "python3"
  },
  "language_info": {
   "codemirror_mode": {
    "name": "ipython",
    "version": 3
   },
   "file_extension": ".py",
   "mimetype": "text/x-python",
   "name": "python",
   "nbconvert_exporter": "python",
   "pygments_lexer": "ipython3",
   "version": "3.6.4"
  }
 },
 "nbformat": 4,
 "nbformat_minor": 2
}
