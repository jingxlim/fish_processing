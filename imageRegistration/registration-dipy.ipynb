{
 "cells": [
  {
   "cell_type": "markdown",
   "metadata": {
    "collapsed": true
   },
   "source": [
    "## Install dipy\n",
    "\n",
    "http://nipy.org/dipy/installation.html\n",
    "\n",
    "```bash\n",
    "conda install dipy -c conda-forge\n",
    "```\n",
    "\n",
    "```bash\n",
    "conda install -c clinicalgraphics vtk\n",
    "```\n",
    "\n",
    "## Install SimpleITK\n",
    "\n",
    "https://itk.org/Wiki/SimpleITK/GettingStarted#Binaries\n",
    "\n",
    "```bash\n",
    "conda install -c https://conda.anaconda.org/simpleitk SimpleITK\n",
    "```"
   ]
  },
  {
   "cell_type": "code",
   "execution_count": null,
   "metadata": {
    "collapsed": true
   },
   "outputs": [],
   "source": [
    "import numpy as np\n",
    "import matplotlib.pyplot as plt\n",
    "import SimpleITK as sitk\n",
    "import dipy\n",
    "\n",
    "%matplotlib inline"
   ]
  },
  {
   "cell_type": "markdown",
   "metadata": {},
   "source": [
    "## Testing data"
   ]
  },
  {
   "cell_type": "code",
   "execution_count": null,
   "metadata": {
    "collapsed": true
   },
   "outputs": [],
   "source": [
    "from numpy import linspace, meshgrid, exp, zeros\n",
    "from scipy.ndimage.interpolation import shift\n",
    "from skimage.transform import swirl\n",
    "from skimage.morphology import ball\n",
    "from scipy.signal import fftconvolve"
   ]
  },
  {
   "cell_type": "code",
   "execution_count": null,
   "metadata": {},
   "outputs": [],
   "source": [
    "# make synthetic data\n",
    "kern = ball(radius=3) # draw a ball in 3d, with radius 3\n",
    "dims = [50,50,50]\n",
    "pos_fixed = zeros(dims)\n",
    "pos_fixed[25,25,25] = 1\n",
    "pos_fixed[25,25,35] = 1\n",
    "pos_fixed[25,35,35] = 1\n",
    "fixed = fftconvolve(pos_fixed, kern, mode='same')\n",
    "pos_moving = zeros(dims)\n",
    "pos_moving[25,25,25] = 1\n",
    "pos_moving[25,25,40] = 1\n",
    "pos_moving[25,40,40] = 1\n",
    "moving = fftconvolve(pos_moving, kern, mode='same')\n",
    "\n",
    "# fig, axs = plt.subplots(ncols = len(moving.shape), nrows=2,  figsize = (8,4))\n",
    "# [a.imshow(fixed.max(ind), cmap='gray_r', origin='lower') for ind, a in enumerate(axs[0])]\n",
    "# axs[0][0].yaxis.set_label_text('Fixed')\n",
    "# [a.imshow(moving.max(ind), cmap='gray_r', origin='lower') for ind, a in enumerate(axs[1])]\n",
    "# axs[1][0].yaxis.set_label_text('Moving')\n",
    "\n",
    "\n",
    "from mayavi import mlab\n",
    "ax = fig.add_subplot(1, 1, 1, projection='3d')\n",
    "X = np.arange(-5, 5, 0.25)\n",
    "Y = np.arange(-5, 5, 0.25)\n",
    "X, Y = np.meshgrid(X, Y)\n",
    "ax.plot_surface(fixed)"
   ]
  }
 ],
 "metadata": {
  "kernelspec": {
   "display_name": "Python 3",
   "language": "python",
   "name": "python3"
  },
  "language_info": {
   "codemirror_mode": {
    "name": "ipython",
    "version": 3
   },
   "file_extension": ".py",
   "mimetype": "text/x-python",
   "name": "python",
   "nbconvert_exporter": "python",
   "pygments_lexer": "ipython3",
   "version": "3.6.2"
  }
 },
 "nbformat": 4,
 "nbformat_minor": 2
}
