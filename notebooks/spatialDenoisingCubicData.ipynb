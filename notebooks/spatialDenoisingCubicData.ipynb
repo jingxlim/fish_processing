{
 "cells": [
  {
   "cell_type": "code",
   "execution_count": null,
   "metadata": {},
   "outputs": [],
   "source": [
    "import warnings\n",
    "warnings.filterwarnings('ignore')\n",
    "import os\n",
    "import sys\n",
    "import numpy as np\n",
    "import matplotlib.pyplot as plt\n",
    "import seaborn as sns\n",
    "sns.set(font_scale=1.5)\n",
    "sns.set_style(\"white\")\n",
    "%load_ext autoreload\n",
    "%autoreload 2\n",
    "%matplotlib inline\n",
    "fish_path = os.path.abspath(os.path.join('..'))\n",
    "if fish_path not in sys.path:\n",
    "    sys.path.append(fish_path)"
   ]
  },
  {
   "cell_type": "markdown",
   "metadata": {},
   "source": [
    "## 1. Load data"
   ]
  },
  {
   "cell_type": "code",
   "execution_count": null,
   "metadata": {},
   "outputs": [],
   "source": [
    "imgStack = np.load('Data/3D_CW_data/17-08-24-L2-CL-VNC-Raw.npy')\n",
    "Y = imgStack.copy()\n",
    "Y = Y.transpose([2, 3, 1, 0]) # x, y, z, T\n",
    "dx, dy, dz, dt = Y.shape"
   ]
  },
  {
   "cell_type": "markdown",
   "metadata": {},
   "source": [
    "## 2. Detrend raw signal on pixels"
   ]
  },
  {
   "cell_type": "code",
   "execution_count": null,
   "metadata": {},
   "outputs": [],
   "source": [
    "# from scipy import signal\n",
    "# Ysg = signal.savgol_filter(Y, 511, 3, axis=-1)\n",
    "# np.save('tmpData/Y_sg_CW_VNC', Ysg)\n",
    "Ysg = np.load('tmpData/Y_sg_CW_VNC.npy')\n",
    "Y_detr = Y - Ysg\n",
    "# compare raw pixel and trend\n",
    "plt.plot(Y[0, 0, 0, :])\n",
    "plt.plot(Ysg[0, 0, 0, :], linewidth=3)\n",
    "plt.show()"
   ]
  },
  {
   "cell_type": "markdown",
   "metadata": {},
   "source": [
    "## 3.Spatial denoising using patched SVD (Greedy algorithm)"
   ]
  },
  {
   "cell_type": "markdown",
   "metadata": {},
   "source": [
    "### 3.1 Denoising for independent images per stack along z"
   ]
  },
  {
   "cell_type": "code",
   "execution_count": null,
   "metadata": {},
   "outputs": [],
   "source": [
    "from denoiseLocalPCA.denoise import temporal as svd_patch\n",
    "nblocks=[5, 5]\n",
    "dx=4\n",
    "maxlag=5\n",
    "confidence=0.99\n",
    "greedy=False,\n",
    "fudge_factor=1\n",
    "mean_th_factor=1.15\n",
    "U_update=False\n",
    "min_rank=1\n",
    "stim_knots=None\n",
    "stim_delta=0\n",
    "\n",
    "Y_svd = Y_detr.copy()\n",
    "for nDepth in range(Y_detr.shape[2]):\n",
    "    img = np.squeeze(Y_detr[:, :, nDepth, :])\n",
    "    Y_svd[:, :, nDepth, :], _ = svd_patch(img, nblocks=nblocks, dx=dx, stim_knots=stim_knots, stim_delta=stim_delta)\n",
    "\n",
    "# np.save('Y_svd_CW_VNC', Y_svd)"
   ]
  },
  {
   "cell_type": "code",
   "execution_count": null,
   "metadata": {},
   "outputs": [],
   "source": [
    "Y_svd = np.load('tmpData/Y_svd_CW_VNC.npy')\n",
    "Y_svd_sg = Y_svd + Ysg"
   ]
  },
  {
   "cell_type": "markdown",
   "metadata": {},
   "source": [
    "#### Performance for selected image"
   ]
  },
  {
   "cell_type": "code",
   "execution_count": null,
   "metadata": {},
   "outputs": [],
   "source": [
    "numCol = 8\n",
    "step = dz//numCol\n",
    "fig, ax = plt.subplots(2, numCol, figsize=(24, 4))\n",
    "for nplot in range(numCol):\n",
    "    ax[0, nplot].imshow(Y[:, :, step*nplot, 810])\n",
    "    ax[0, nplot].axis('off')\n",
    "    ax[1, nplot].imshow(Y_svd_sg[:, :, step*nplot, 810])\n",
    "    ax[1, nplot].axis('off')\n",
    "plt.show()"
   ]
  },
  {
   "cell_type": "markdown",
   "metadata": {},
   "source": [
    "#### Performance on single pixels"
   ]
  },
  {
   "cell_type": "code",
   "execution_count": null,
   "metadata": {},
   "outputs": [],
   "source": [
    "percentage_noise = ((Y_detr - Y_svd)**2).mean(axis=-1)/Y_detr.var(axis=-1)\n",
    "print('Average percentage noise removed %f'%(percentage_noise[:].mean()))"
   ]
  },
  {
   "cell_type": "code",
   "execution_count": null,
   "metadata": {},
   "outputs": [],
   "source": [
    "plt.plot(Y_detr[70, 40, 20, :], label='Detrended image')\n",
    "plt.plot(Y_svd[70, 40, 20, :], label='Denoised image')\n",
    "plt.legend()\n",
    "plt.show()"
   ]
  },
  {
   "cell_type": "code",
   "execution_count": null,
   "metadata": {},
   "outputs": [],
   "source": [
    "fig, ax = plt.subplots(1, 2, figsize=(20, 4))\n",
    "ax[0].plot(Y[0:10, 70:79, step*6, :].mean(axis=0).mean(axis=0))\n",
    "ax[0].set_xlabel('Frame')\n",
    "ax[0].set_ylabel('Raw image')\n",
    "ax[0].set_xlim([0, dt])\n",
    "\n",
    "ax[1].plot(Y_detr[0:10, 70:79, step*6, :].mean(axis=0).mean(axis=0))\n",
    "ax[1].plot(Y_svd[0:10, 70:79, step*6, :].mean(axis=0).mean(axis=0))\n",
    "ax[1].set_xlabel('Frame')\n",
    "ax[1].set_ylabel('Detrend-denoise image')\n",
    "ax[1].set_xlim([0, dt])\n",
    "plt.show()\n",
    "\n",
    "fig, ax = plt.subplots(1, 2, figsize=(20, 4))\n",
    "ax[0].plot(Y[70:79, 50:59, step*2, :].mean(axis=0).mean(axis=0))\n",
    "ax[0].set_xlabel('Frame')\n",
    "ax[0].set_ylabel('Raw image')\n",
    "ax[0].set_xlim([0, dt])\n",
    "\n",
    "ax[1].plot(Y_detr[70:79, 50:59, step*2, :].mean(axis=0).mean(axis=0))\n",
    "ax[1].plot(Y_svd[70:79, 50:59, step*2, :].mean(axis=0).mean(axis=0))\n",
    "ax[1].set_xlabel('Frame')\n",
    "ax[1].set_ylabel('Detrend-denoise image')\n",
    "ax[1].set_xlim([0, dt])\n",
    "plt.show()"
   ]
  },
  {
   "cell_type": "markdown",
   "metadata": {},
   "source": [
    "### 3.2 Denoising for consecutive stacks"
   ]
  },
  {
   "cell_type": "code",
   "execution_count": null,
   "metadata": {},
   "outputs": [],
   "source": [
    "from denoiseLocalPCA.cdenoise import *"
   ]
  },
  {
   "cell_type": "code",
   "execution_count": null,
   "metadata": {},
   "outputs": [],
   "source": [
    "Y_detr_ave = Y_detr.mean(axis=-1) # remove mean\n",
    "Y_detr_std = Y_detr.std(axis=-1) # normalization\n",
    "Y_detr_ = Y_detr.transpose([2, 0, 1, 3])\n",
    "Y_detr_ = (Y_detr_ - Y_detr_.mean(axis=-1)[:,:,:,np.newaxis])/Y_detr_.std(axis=-1)[:,:,:,np.newaxis]"
   ]
  },
  {
   "cell_type": "code",
   "execution_count": null,
   "metadata": {
    "scrolled": true
   },
   "outputs": [],
   "source": [
    "# remove top few (6) components in each z of stack\n",
    "rank_k = 6\n",
    "Y_low_rank = [low_rank_svd(slice_, rank_k) for slice_ in Y_detr_]\n",
    "Y_detr_ = Y_detr_ - Y_low_rank"
   ]
  },
  {
   "cell_type": "code",
   "execution_count": null,
   "metadata": {},
   "outputs": [],
   "source": [
    "dx, dy, dz, dt = Y.shape\n",
    "nx = 5 # number of blocks along x\n",
    "ny = 5\n",
    "zstack_step = 4\n",
    "nz = np.ceil(dz/zstack_step).astype('int')\n",
    "ox = 2 # number of pixels overlapped between two blocks along x axis\n",
    "oy = 2\n",
    "oz = 1\n",
    "arrs = split_to_blocks((dx, dy, dz), (nx, ny, nz), (ox, oy, oz))\n",
    "arrs = [arrs[2], arrs[0], arrs[1]]\n",
    "blocks = get_blocks_from_index_arr(Y_detr_, arrs)"
   ]
  },
  {
   "cell_type": "code",
   "execution_count": null,
   "metadata": {},
   "outputs": [],
   "source": [
    "maxlag=5\n",
    "confidence=0.99\n",
    "greedy=False\n",
    "fudge_factor=1\n",
    "mean_th_factor=1.15\n",
    "U_update=False\n",
    "min_rank=1\n",
    "stim_knots=None\n",
    "stim_delta=0\n",
    "interleave=False\n",
    "\n",
    "block_Y_cubic_svd, block_rank = run_single(blocks, maxlag=maxlag, confidence=confidence, greedy=greedy, \n",
    "                                fudge_factor=fudge_factor, mean_th_factor=mean_th_factor, U_update=U_update, \n",
    "                                min_rank=min_rank, stim_knots=stim_knots, stim_delta=stim_delta)\n"
   ]
  },
  {
   "cell_type": "code",
   "execution_count": null,
   "metadata": {},
   "outputs": [],
   "source": [
    "block_mat, block_cout = combine_blocks(block_Y_cubic_svd, Y_detr_.shape, blocks)\n",
    "plt.imshow(block_cout[3, :, :, 0])\n",
    "plt.colorbar()\n",
    "plt.show()"
   ]
  },
  {
   "cell_type": "code",
   "execution_count": null,
   "metadata": {},
   "outputs": [],
   "source": [
    "Y_cubic_svd = block_mat/block_cout\n",
    "Y_cubic_svd = Y_cubic_svd + Y_low_rank\n",
    "Y_cubic_svd = Y_cubic_svd.transpose([1, 2, 0, 3])\n",
    "Y_cubic_svd = (Y_cubic_svd + Y_detr_ave[:,:,:,np.newaxis])*Y_detr_std[:,:,:,np.newaxis]"
   ]
  },
  {
   "cell_type": "code",
   "execution_count": null,
   "metadata": {},
   "outputs": [],
   "source": [
    "plt.plot(Y_detr[70, 40, 20, :], label='Detrended image')\n",
    "plt.plot(Y_svd[70, 40, 20, :], label='SVD image')\n",
    "plt.legend()\n",
    "plt.show()\n",
    "plt.plot(Y_detr[70, 40, 20, :], label='Detrended image')\n",
    "plt.plot(Y_cubic_svd[70, 40, 20, :], label='Cubic SVD image')\n",
    "plt.legend()\n",
    "plt.show()"
   ]
  },
  {
   "cell_type": "code",
   "execution_count": null,
   "metadata": {},
   "outputs": [],
   "source": [
    "percentage_noise = ((Y_detr - Y_svd)**2).mean(axis=-1)/Y_detr.var(axis=-1)\n",
    "percentage_c_noise = ((Y_detr - Y_cubic_svd)**2).mean(axis=-1)/Y_detr.var(axis=-1)\n",
    "print('Average percentage noise removed %f'%(percentage_noise[:].mean()))\n",
    "print('Average percentage noise removed %f'%(percentage_c_noise[:].mean()))"
   ]
  },
  {
   "cell_type": "code",
   "execution_count": null,
   "metadata": {},
   "outputs": [],
   "source": [
    "diff = percentage_c_noise - percentage_noise\n",
    "ind = np.where(diff==diff.max())\n",
    "plt.plot(Y_detr[ind[0][0], ind[1][0], ind[2][0], :], label='Detrended image')\n",
    "plt.plot(Y_svd[ind[0][0], ind[1][0], ind[2][0], :], label='SVD image')\n",
    "plt.legend()\n",
    "plt.show()\n",
    "plt.plot(Y_detr[ind[0][0], ind[1][0], ind[2][0], :], label='Detrended image')\n",
    "plt.plot(Y_cubic_svd[ind[0][0], ind[1][0], ind[2][0], :], label='Cubic SVD image')\n",
    "plt.legend()\n",
    "plt.show()"
   ]
  },
  {
   "cell_type": "code",
   "execution_count": null,
   "metadata": {},
   "outputs": [],
   "source": [
    "np.save('tmpData/Y_csvd_CW_VNC.npy', Y_cubic_svd)\n",
    "Y_cubic_svd = np.load('tmpData/Y_csvd_CW_VNC.npy')\n",
    "Y_cubic_svd_sg = Y_cubic_svd + Ysg"
   ]
  },
  {
   "cell_type": "markdown",
   "metadata": {},
   "source": [
    "#### Comparing to indepedent z-stack"
   ]
  },
  {
   "cell_type": "code",
   "execution_count": null,
   "metadata": {},
   "outputs": [],
   "source": [
    "nx = 5\n",
    "ny = 5\n",
    "zstack_step = 1\n",
    "nz = np.ceil(dz/zstack_step).astype('int')\n",
    "ox = 2\n",
    "oy = 2\n",
    "oz = 0\n",
    "arrs = split_to_blocks((dx, dy, dz), (nx, ny, nz), (ox, oy, oz))\n",
    "arrs = [arrs[2], arrs[0], arrs[1]]\n",
    "blocks = get_blocks_from_index_arr(Y_detr_, arrs)"
   ]
  },
  {
   "cell_type": "code",
   "execution_count": null,
   "metadata": {},
   "outputs": [],
   "source": [
    "maxlag=5\n",
    "confidence=0.99\n",
    "greedy=False\n",
    "fudge_factor=1\n",
    "mean_th_factor=1.15\n",
    "U_update=False\n",
    "min_rank=1\n",
    "stim_knots=None\n",
    "stim_delta=0\n",
    "interleave=False\n",
    "\n",
    "block_Y_cubic_svd_, block_rank_ = run_single(blocks, maxlag=maxlag, confidence=confidence, greedy=greedy, \n",
    "                                fudge_factor=fudge_factor, mean_th_factor=mean_th_factor, U_update=U_update, \n",
    "                                min_rank=min_rank, stim_knots=stim_knots, stim_delta=stim_delta)"
   ]
  },
  {
   "cell_type": "code",
   "execution_count": null,
   "metadata": {},
   "outputs": [],
   "source": [
    "block_mat, block_cout = combine_blocks(block_Y_cubic_svd_, Y_detr_.shape, blocks)\n",
    "plt.imshow(block_cout[3, :, :, 0])\n",
    "plt.colorbar()\n",
    "plt.show()"
   ]
  },
  {
   "cell_type": "code",
   "execution_count": null,
   "metadata": {},
   "outputs": [],
   "source": [
    "Y_cubic_svd_ = block_mat/block_cout\n",
    "Y_cubic_svd_ = Y_cubic_svd_ + Y_low_rank\n",
    "Y_cubic_svd_ = Y_cubic_svd_.transpose([1, 2, 0, 3])\n",
    "Y_cubic_svd_ = (Y_cubic_svd_ + Y_detr_ave[:,:,:,np.newaxis])*Y_detr_std[:,:,:,np.newaxis]"
   ]
  },
  {
   "cell_type": "code",
   "execution_count": null,
   "metadata": {},
   "outputs": [],
   "source": [
    "percentage_noise = ((Y_detr - Y_cubic_svd_)**2).mean(axis=-1)/Y_detr.var(axis=-1)\n",
    "percentage_c_noise = ((Y_detr - Y_cubic_svd)**2).mean(axis=-1)/Y_detr.var(axis=-1)\n",
    "print('Average percentage noise removed %f'%(percentage_noise[:].mean()))\n",
    "print('Average percentage noise removed %f'%(percentage_c_noise[:].mean()))"
   ]
  },
  {
   "cell_type": "code",
   "execution_count": null,
   "metadata": {},
   "outputs": [],
   "source": [
    "diff = percentage_c_noise - percentage_noise\n",
    "ind = np.where(diff==diff.max())\n",
    "plt.plot(Y_detr[ind[0][0], ind[1][0], ind[2][0], :], label='Detrended image')\n",
    "plt.plot(Y_cubic_svd_[ind[0][0], ind[1][0], ind[2][0], :], label='SVD image')\n",
    "plt.legend()\n",
    "plt.show()\n",
    "plt.plot(Y_detr[ind[0][0], ind[1][0], ind[2][0], :], label='Detrended image')\n",
    "plt.plot(Y_cubic_svd[ind[0][0], ind[1][0], ind[2][0], :], label='Cubic SVD image')\n",
    "plt.legend()\n",
    "plt.show()"
   ]
  },
  {
   "cell_type": "code",
   "execution_count": null,
   "metadata": {},
   "outputs": [],
   "source": [
    "plt.plot(percentage_c_noise.flatten(), percentage_noise.flatten(), '.')"
   ]
  },
  {
   "cell_type": "code",
   "execution_count": null,
   "metadata": {},
   "outputs": [],
   "source": [
    "fig, ax = plt.subplots(1, 2, figsize=(20, 4))\n",
    "ax[0].plot(Y_detr[0:10, 70:79, step*6, :].mean(axis=0).mean(axis=0))\n",
    "ax[0].plot(Y_cubic_svd_[0:10, 70:79, step*6, :].mean(axis=0).mean(axis=0))\n",
    "ax[0].set_xlabel('Frame')\n",
    "ax[0].set_ylabel('Raw image')\n",
    "ax[0].set_xlim([0, dt])\n",
    "\n",
    "ax[1].plot(Y_detr[0:10, 70:79, step*6, :].mean(axis=0).mean(axis=0))\n",
    "ax[1].plot(Y_cubic_svd[0:10, 70:79, step*6, :].mean(axis=0).mean(axis=0))\n",
    "ax[1].set_xlabel('Frame')\n",
    "ax[1].set_ylabel('Detrend-denoise image')\n",
    "ax[1].set_xlim([0, dt])\n",
    "plt.show()\n",
    "\n",
    "fig, ax = plt.subplots(1, 2, figsize=(20, 4))\n",
    "ax[0].plot(Y_detr[70:79, 50:59, step*2, :].mean(axis=0).mean(axis=0))\n",
    "ax[0].plot(Y_cubic_svd_[70:79, 50:59, step*2, :].mean(axis=0).mean(axis=0))\n",
    "ax[0].set_xlabel('Frame')\n",
    "ax[0].set_ylabel('Raw image')\n",
    "ax[0].set_xlim([0, dt])\n",
    "\n",
    "ax[1].plot(Y_detr[70:79, 50:59, step*2, :].mean(axis=0).mean(axis=0))\n",
    "ax[1].plot(Y_cubic_svd[70:79, 50:59, step*2, :].mean(axis=0).mean(axis=0))\n",
    "ax[1].set_xlabel('Frame')\n",
    "ax[1].set_ylabel('Detrend-denoise image')\n",
    "ax[1].set_xlim([0, dt])\n",
    "plt.show()"
   ]
  },
  {
   "cell_type": "code",
   "execution_count": null,
   "metadata": {},
   "outputs": [],
   "source": []
  }
 ],
 "metadata": {
  "hide_input": false,
  "kernelspec": {
   "display_name": "Python 3",
   "language": "python",
   "name": "python3"
  },
  "language_info": {
   "codemirror_mode": {
    "name": "ipython",
    "version": 3
   },
   "file_extension": ".py",
   "mimetype": "text/x-python",
   "name": "python",
   "nbconvert_exporter": "python",
   "pygments_lexer": "ipython3",
   "version": "3.6.5"
  }
 },
 "nbformat": 4,
 "nbformat_minor": 2
}
