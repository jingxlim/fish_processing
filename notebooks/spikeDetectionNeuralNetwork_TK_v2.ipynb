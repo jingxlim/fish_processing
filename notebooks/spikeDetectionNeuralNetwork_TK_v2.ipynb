{
 "cells": [
  {
   "cell_type": "markdown",
   "metadata": {},
   "source": [
    "## TK's simultaneous juxtracellular-imaging recording"
   ]
  },
  {
   "cell_type": "code",
   "execution_count": 1,
   "metadata": {},
   "outputs": [],
   "source": [
    "import warnings\n",
    "warnings.filterwarnings('ignore')\n",
    "import seaborn as sns\n",
    "import os\n",
    "import sys\n",
    "import numpy as np\n",
    "import scipy as sp\n",
    "import matplotlib.pyplot as plt\n",
    "%load_ext autoreload\n",
    "%autoreload 2\n",
    "%matplotlib inline\n",
    "fish_path = os.path.abspath(os.path.join('..'))\n",
    "if fish_path not in sys.path:\n",
    "    sys.path.append(fish_path)\n",
    "from datetime import datetime\n",
    "from glob import glob"
   ]
  },
  {
   "cell_type": "code",
   "execution_count": 2,
   "metadata": {},
   "outputs": [
    {
     "name": "stderr",
     "output_type": "stream",
     "text": [
      "Using TensorFlow backend.\n"
     ]
    }
   ],
   "source": [
    "from keras.models import load_model\n",
    "from spikeDetectionNN.spikeDetector import prepare_sequences, create_lstm_model\n",
    "from spikeDetectionNN.utils import detected_peak_spikes, plot_spks, plot_test_performance, print_spike_detection_report"
   ]
  },
  {
   "cell_type": "markdown",
   "metadata": {},
   "source": [
    "## Training with all simultaneous recording data (4 cells)"
   ]
  },
  {
   "cell_type": "code",
   "execution_count": 3,
   "metadata": {},
   "outputs": [],
   "source": [
    "files = ['tmpData/TK09282017Fish1-1_ex_spk_voltr.npz', \n",
    "         'tmpData/TK09212017Fish1-1_ex_spk_voltr.npz', \n",
    "         'tmpData/TK10052017Fish2-2_ex_spk_voltr.npz',\n",
    "         'tmpData/YS_in_spk_voltr.npz']\n",
    "\n",
    "spkcount_set = np.array([])\n",
    "voltr_set = np.array([])\n",
    "devoltr_set = np.array([])\n",
    "\n",
    "for nfile in files:\n",
    "    dat = np.load(nfile)\n",
    "    spkcount, voltr, devoltr = dat['arr_0'].astype('uint8'), dat['arr_1'], dat['arr_2']\n",
    "#     print(len(spkcount))\n",
    "    spkcount_set = np.concatenate((spkcount_set, spkcount))\n",
    "    voltr_set = np.concatenate((voltr_set, voltr))\n",
    "    devoltr_set = np.concatenate((devoltr_set, devoltr))"
   ]
  },
  {
   "cell_type": "code",
   "execution_count": 4,
   "metadata": {},
   "outputs": [],
   "source": [
    "window_length = 40\n",
    "x1_, contain_outliers_ = prepare_sequences(voltr_set, spkcount_set, window_length)\n",
    "x2_, _ = prepare_sequences(devoltr_set, spkcount_set, window_length)\n",
    "x_ = x1_\n",
    "train_test_index = np.random.rand(x_.shape[0])>0.3\n",
    "x_test = x_[~train_test_index, :, :]\n",
    "y_test = contain_outliers_[~train_test_index][:, np.newaxis]\n",
    "x_train = x_[train_test_index, :, :]\n",
    "y_train = contain_outliers_[train_test_index][:, np.newaxis]"
   ]
  },
  {
   "cell_type": "markdown",
   "metadata": {},
   "source": [
    "### Training from previously trained model"
   ]
  },
  {
   "cell_type": "code",
   "execution_count": 5,
   "metadata": {},
   "outputs": [
    {
     "name": "stdout",
     "output_type": "stream",
     "text": [
      "WARNING:tensorflow:From /groups/ahrens/home/weiz/anaconda3/lib/python3.6/site-packages/keras/backend/tensorflow_backend.py:1247: calling reduce_sum (from tensorflow.python.ops.math_ops) with keep_dims is deprecated and will be removed in a future version.\n",
      "Instructions for updating:\n",
      "keep_dims is deprecated, use keepdims instead\n",
      "WARNING:tensorflow:From /groups/ahrens/home/weiz/anaconda3/lib/python3.6/site-packages/keras/backend/tensorflow_backend.py:1349: calling reduce_mean (from tensorflow.python.ops.math_ops) with keep_dims is deprecated and will be removed in a future version.\n",
      "Instructions for updating:\n",
      "keep_dims is deprecated, use keepdims instead\n"
     ]
    }
   ],
   "source": [
    "trained_model = sorted(glob('tmpData/partly_trained_spikeDetector*.h5'))[-1]\n",
    "\n",
    "if trained_model is None:\n",
    "    hidden_dim = 100\n",
    "    m = create_lstm_model(hidden_dim, window_length, m=x_.shape[2])\n",
    "else:\n",
    "    m = load_model(trained_model)\n",
    "\n",
    "# m.fit(x_train, y_train, batch_size=64, nb_epoch=5, validation_data=(x_test, y_test))\n",
    "# m.save('tmpData/partly_trained_spikeDetector_%s.h5'%(datetime.now().strftime(\"%Y_%m_%d_%H_%M_%S\")))"
   ]
  },
  {
   "cell_type": "markdown",
   "metadata": {},
   "source": [
    "### Compute performance on testing data"
   ]
  },
  {
   "cell_type": "code",
   "execution_count": null,
   "metadata": {},
   "outputs": [
    {
     "data": {
      "image/png": "[encoded data removed]",
      "text/plain": [
       "<matplotlib.figure.Figure at 0x2b523eb77048>"
      ]
     },
     "metadata": {},
     "output_type": "display_data"
    }
   ],
   "source": [
    "plot_test_performance(m, x_test, contain_outliers_[~train_test_index])"
   ]
  },
  {
   "cell_type": "markdown",
   "metadata": {},
   "source": [
    "### Test detected spikes"
   ]
  },
  {
   "cell_type": "code",
   "execution_count": null,
   "metadata": {},
   "outputs": [],
   "source": [
    "spk_ = detected_peak_spikes(m, x_, voltr_set, thres=0.4, devoltr_ = devoltr_set)\n",
    "spk = spkcount_set>0"
   ]
  },
  {
   "cell_type": "code",
   "execution_count": null,
   "metadata": {},
   "outputs": [],
   "source": [
    "plt.figure(figsize=(20, 3))\n",
    "plt.plot(voltr_set,'-')\n",
    "plot_spks(plt, spk, voltr_set.max()*1.5, label='Raw spike time')\n",
    "plot_spks(plt, spk_, voltr_set.max()*2.0, label='Detected spike time')\n",
    "plt.xlabel('Frame')\n",
    "plt.xlim([10000, 15000])\n",
    "# plt.legend(loc='upper center', bbox_to_anchor=(1.1, 1))\n",
    "sns.despine()\n",
    "plt.show()"
   ]
  },
  {
   "cell_type": "code",
   "execution_count": null,
   "metadata": {},
   "outputs": [],
   "source": [
    "cell_frames = [0, 36299, 36297, 36298, 24001]\n",
    "cell_frames = np.cumsum(cell_frames)\n",
    "\n",
    "for ncell in range(4):\n",
    "    range_ = range(cell_frames[ncell],cell_frames[ncell+1])\n",
    "    spk_in_range = spk[range_]\n",
    "    spkc_in_range = spk_[range_]\n",
    "    print_spike_detection_report(spk_in_range, spkc_in_range, 'Result of Cell #%d'%(ncell+1))"
   ]
  },
  {
   "cell_type": "markdown",
   "metadata": {},
   "source": [
    "### Test on completely untrained data -- Amrita's annonated data"
   ]
  },
  {
   "cell_type": "code",
   "execution_count": null,
   "metadata": {},
   "outputs": [],
   "source": [
    "import pickle as pkl\n",
    "from scipy import signal\n",
    "folder = '/groups/svoboda/svobodalab/users/Amrita/STVoltron/402361/Annotated/'\n",
    "cellId = 'Cell_12'\n",
    "\n",
    "with open(folder + cellId + '_spikes.pkl', 'rb') as f:\n",
    "    spk = pkl.load(f)\n",
    "    voltr = -spk['dF_F']\n",
    "    voltr_ = voltr - signal.savgol_filter(voltr, 511, 3)\n",
    "    spkTime = spk['spike_frames_manual'].astype(int)\n",
    "    spkcount = np.empty(voltr.shape)\n",
    "    spkcount[:] = False\n",
    "    spkcount[spkTime] = True"
   ]
  },
  {
   "cell_type": "code",
   "execution_count": null,
   "metadata": {},
   "outputs": [],
   "source": [
    "from trefide.temporal import TrendFilter\n",
    "filt = TrendFilter(len(voltr))\n",
    "denoised_voltr = filt.denoise(voltr)\n",
    "denoised_voltr, _, _ = constrained_l1tf(voltr)"
   ]
  },
  {
   "cell_type": "code",
   "execution_count": 40,
   "metadata": {},
   "outputs": [],
   "source": [
    "window_length = 40\n",
    "x_, contain_outliers_ = prepare_sequences(voltr_, spkcount, window_length)"
   ]
  },
  {
   "cell_type": "code",
   "execution_count": 41,
   "metadata": {},
   "outputs": [],
   "source": [
    "spk_ = detected_peak_spikes(m, x_, voltr_, thres=0.4, devoltr_ = 0)\n",
    "spk = spkcount"
   ]
  },
  {
   "cell_type": "code",
   "execution_count": null,
   "metadata": {},
   "outputs": [],
   "source": [
    "plt.figure(figsize=(20, 3))\n",
    "plot_spks(plt, spk, voltr.max()*1.5, label='Raw spike time')\n",
    "plot_spks(plt, spk_, voltr.max()*2.0, label='Detected spike time')\n",
    "plt.plot(voltr,'-k')\n",
    "plt.xlabel('Frame')\n",
    "plt.xlim([10000, 13000])\n",
    "plt.legend(loc='upper center', bbox_to_anchor=(1.1, 1))\n",
    "sns.despine()\n",
    "plt.show()"
   ]
  },
  {
   "cell_type": "code",
   "execution_count": null,
   "metadata": {},
   "outputs": [],
   "source": []
  }
 ],
 "metadata": {
  "kernelspec": {
   "display_name": "Python 3",
   "language": "python",
   "name": "python3"
  },
  "language_info": {
   "codemirror_mode": {
    "name": "ipython",
    "version": 3
   },
   "file_extension": ".py",
   "mimetype": "text/x-python",
   "name": "python",
   "nbconvert_exporter": "python",
   "pygments_lexer": "ipython3",
   "version": "3.6.4"
  }
 },
 "nbformat": 4,
 "nbformat_minor": 2
}
