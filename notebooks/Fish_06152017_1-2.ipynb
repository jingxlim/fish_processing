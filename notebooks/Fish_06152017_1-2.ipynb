{
 "cells": [
  {
   "cell_type": "markdown",
   "metadata": {},
   "source": [
    "## This processes a cropped period of time for voltron recording of Fish_06152017_1-2"
   ]
  },
  {
   "cell_type": "code",
   "execution_count": 1,
   "metadata": {},
   "outputs": [],
   "source": [
    "import warnings\n",
    "warnings.filterwarnings('ignore')\n",
    "import numpy as np\n",
    "import matplotlib.pyplot as plt\n",
    "%matplotlib inline\n",
    "import seaborn as sns\n",
    "sns.set(font_scale=2)\n",
    "sns.set_style(\"white\")\n",
    "%load_ext autoreload\n",
    "%autoreload 2\n",
    "import os, sys\n",
    "fish_path = os.path.abspath(os.path.join('..'))\n",
    "if fish_path not in sys.path:\n",
    "    sys.path.append(fish_path)\n",
    "from utils.memory import get_process_memory\n",
    "import dask.array as da\n",
    "from dask.array.image import imread\n",
    "from dask.distributed import wait, as_completed\n",
    "from utils.dask_ import setup_workers, terminate_workers"
   ]
  },
  {
   "cell_type": "markdown",
   "metadata": {},
   "source": [
    "### Load data"
   ]
  },
  {
   "cell_type": "code",
   "execution_count": 2,
   "metadata": {},
   "outputs": [],
   "source": [
    "folderName = '/nrs/ahrens/Takashi/06152017Fish1-2'\n",
    "imgFileName = 'registered.tif'\n",
    "imgFile = os.path.join(folderName, imgFileName)\n",
    "imgStack = imread(imgFile)"
   ]
  },
  {
   "cell_type": "code",
   "execution_count": 3,
   "metadata": {},
   "outputs": [],
   "source": [
    "fishName = '06152017Fish1-2'"
   ]
  },
  {
   "cell_type": "markdown",
   "metadata": {},
   "source": [
    "## 1. Pixel Denoising\n",
    "## 2. Motion correction\n",
    "* Above is done by TK"
   ]
  },
  {
   "cell_type": "markdown",
   "metadata": {},
   "source": [
    "### 2.0 Crop a period of data from whole time series"
   ]
  },
  {
   "cell_type": "code",
   "execution_count": 4,
   "metadata": {},
   "outputs": [],
   "source": [
    "# time_ = imgStack.shape[1]//2\n",
    "# period_ = 300*60*2 #  300 Hz -- 2 minutes data\n",
    "# Y = imgStack[:, time_:time_+period_,:, :].squeeze(axis=0)\n",
    "# np.save(f'tmpData/{fishName}_period', Y)"
   ]
  },
  {
   "cell_type": "code",
   "execution_count": 5,
   "metadata": {},
   "outputs": [],
   "source": [
    "Y = np.load(f'tmpData/{fishName}_period.npy')\n",
    "get_process_memory();"
   ]
  },
  {
   "cell_type": "markdown",
   "metadata": {},
   "source": [
    "## 3. Local pca -- spatial denoising"
   ]
  },
  {
   "cell_type": "markdown",
   "metadata": {},
   "source": [
    "### 3.1. Detrend corrected signal on pixels"
   ]
  },
  {
   "cell_type": "code",
   "execution_count": null,
   "metadata": {},
   "outputs": [],
   "source": [
    "from denoiseLocalPCA.detrend import trend\n",
    "from utils.np_mp import parallel_to_chunks\n",
    "n_split = 16\n",
    "Y = Y.transpose([1,2,0])\n",
    "Y_split = np.split(Y, n_split, axis=0)\n",
    "Y_trend = parallel_to_chunks(trend, Y_split)\n",
    "get_process_memory();"
   ]
  },
  {
   "cell_type": "code",
   "execution_count": null,
   "metadata": {},
   "outputs": [],
   "source": [
    "get_process_memory();"
   ]
  },
  {
   "cell_type": "markdown",
   "metadata": {},
   "source": [
    "## 4. Demix"
   ]
  }
 ],
 "metadata": {
  "hide_input": false,
  "kernelspec": {
   "display_name": "Python 3",
   "language": "python",
   "name": "python3"
  },
  "language_info": {
   "codemirror_mode": {
    "name": "ipython",
    "version": 3
   },
   "file_extension": ".py",
   "mimetype": "text/x-python",
   "name": "python",
   "nbconvert_exporter": "python",
   "pygments_lexer": "ipython3",
   "version": "3.6.5"
  }
 },
 "nbformat": 4,
 "nbformat_minor": 2
}
