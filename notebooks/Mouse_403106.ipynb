{
 "cells": [
  {
   "cell_type": "code",
   "execution_count": 22,
   "metadata": {},
   "outputs": [
    {
     "name": "stdout",
     "output_type": "stream",
     "text": [
      "The autoreload extension is already loaded. To reload it, use:\n",
      "  %reload_ext autoreload\n",
      "Initial memory use:\n",
      "RAM used 17.3320 GB\n"
     ]
    }
   ],
   "source": [
    "import warnings\n",
    "warnings.filterwarnings('ignore')\n",
    "import numpy as np\n",
    "import dask.array as da\n",
    "# from dask.array.image import imread\n",
    "import matplotlib.pyplot as plt\n",
    "%matplotlib inline\n",
    "import seaborn as sns\n",
    "sns.set(font_scale=2)\n",
    "sns.set_style(\"white\")\n",
    "import h5py\n",
    "%load_ext autoreload\n",
    "%autoreload 2\n",
    "import gc\n",
    "\n",
    "import os, sys\n",
    "fish_path = os.path.abspath(os.path.join('..'))\n",
    "if fish_path not in sys.path:\n",
    "    sys.path.append(fish_path)\n",
    "\n",
    "from utils.memory import get_process_memory\n",
    "print('Initial memory use:')\n",
    "get_process_memory();\n",
    "from tqdm import tqdm\n",
    "from dask.distributed import wait, as_completed\n",
    "from utils.dask_ import setup_workers, terminate_workers\n",
    "\n",
    "from skimage.io import imread, imsave"
   ]
  },
  {
   "cell_type": "code",
   "execution_count": 2,
   "metadata": {},
   "outputs": [],
   "source": [
    "imag_loc = '/groups/svoboda/svobodalab/users/Amrita/STVoltron/403106/Session16_registered_tif/'"
   ]
  },
  {
   "cell_type": "code",
   "execution_count": 16,
   "metadata": {},
   "outputs": [],
   "source": [
    "from glob import glob\n",
    "imgStack = [imread(_) for _ in sorted(glob(imag_loc+'frame-*.tif'))]"
   ]
  },
  {
   "cell_type": "code",
   "execution_count": 17,
   "metadata": {},
   "outputs": [
    {
     "name": "stdout",
     "output_type": "stream",
     "text": [
      "RAM used 11.1317 GB\n"
     ]
    }
   ],
   "source": [
    "get_process_memory();"
   ]
  },
  {
   "cell_type": "code",
   "execution_count": 19,
   "metadata": {},
   "outputs": [],
   "source": [
    "imgStack = np.asarray(imgStack)"
   ]
  },
  {
   "cell_type": "code",
   "execution_count": 24,
   "metadata": {},
   "outputs": [],
   "source": [
    "imsave('Mouse_403106_Session16_registered_frame_0_to_1200.tif', imgStack[:1200, :, :])"
   ]
  }
 ],
 "metadata": {
  "kernelspec": {
   "display_name": "Python 3",
   "language": "python",
   "name": "python3"
  },
  "language_info": {
   "codemirror_mode": {
    "name": "ipython",
    "version": 3
   },
   "file_extension": ".py",
   "mimetype": "text/x-python",
   "name": "python",
   "nbconvert_exporter": "python",
   "pygments_lexer": "ipython3",
   "version": "3.6.5"
  }
 },
 "nbformat": 4,
 "nbformat_minor": 2
}
