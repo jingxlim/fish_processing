{
 "cells": [
  {
   "cell_type": "markdown",
   "metadata": {},
   "source": [
    "## TK's simultaneous juxtracellular-imaging recording"
   ]
  },
  {
   "cell_type": "code",
   "execution_count": 1,
   "metadata": {},
   "outputs": [],
   "source": [
    "import warnings\n",
    "warnings.filterwarnings('ignore')\n",
    "import os\n",
    "import sys\n",
    "import caiman as cm\n",
    "import numpy as np\n",
    "import scipy as sp\n",
    "import matplotlib.pyplot as plt\n",
    "import seaborn as sns\n",
    "sns.set(font_scale=1.5)\n",
    "sns.set_style(\"ticks\")\n",
    "%load_ext autoreload\n",
    "%autoreload 2\n",
    "%matplotlib inline\n",
    "fish_path = os.path.abspath(os.path.join('..'))\n",
    "if fish_path not in sys.path:\n",
    "    sys.path.append(fish_path)\n",
    "import peakutils"
   ]
  },
  {
   "cell_type": "code",
   "execution_count": 2,
   "metadata": {},
   "outputs": [
    {
     "name": "stderr",
     "output_type": "stream",
     "text": [
      "Using TensorFlow backend.\n"
     ]
    }
   ],
   "source": [
    "from keras.layers import RepeatVector, Bidirectional, TimeDistributed\n",
    "from keras.layers.core import Dropout, Dense\n",
    "from keras.layers.recurrent import LSTM\n",
    "from keras.models import Sequential\n",
    "from keras.models import load_model\n",
    "from keras.utils import plot_model"
   ]
  },
  {
   "cell_type": "code",
   "execution_count": 3,
   "metadata": {},
   "outputs": [],
   "source": [
    "def plot_spks(plt, spkcount, ratio, label='Raw spike time'):\n",
    "    spkTime = spkcount>0\n",
    "    plt.plot(np.array(np.where(spkTime)).T, spkcount[spkTime]*ratio,'o', label=label)"
   ]
  },
  {
   "cell_type": "markdown",
   "metadata": {},
   "source": [
    "## Spike vs no-spike Detection on a single cell"
   ]
  },
  {
   "cell_type": "markdown",
   "metadata": {},
   "source": [
    "Example code from https://gist.github.com/philipperemy/b8a7b7be344e447e7ee6625fe2fdd765"
   ]
  },
  {
   "cell_type": "code",
   "execution_count": 4,
   "metadata": {},
   "outputs": [],
   "source": [
    "def prepare_sequences(x_train, y_train, window_length):\n",
    "    full_seq = x_train.flatten()\n",
    "    target_seq = y_train.flatten()\n",
    "    windows = []\n",
    "    outliers = []\n",
    "    for window_start in range(0, len(full_seq) - window_length + 1):\n",
    "        window_end = window_start + window_length\n",
    "        window_range = range(window_start, window_end)\n",
    "        window = list(full_seq[window_range])\n",
    "        contain_outlier = target_seq[window_range].sum()>0\n",
    "        outliers.append(contain_outlier)\n",
    "        windows.append(window)\n",
    "    return np.expand_dims(np.array(windows), axis=2), np.array(outliers).astype(np.bool)"
   ]
  },
  {
   "cell_type": "code",
   "execution_count": 5,
   "metadata": {},
   "outputs": [],
   "source": [
    "# this does not work\n",
    "def prepare_sequences_center(x_train, y_train, window_length):\n",
    "    full_seq = x_train.flatten()\n",
    "    target_seq = y_train.flatten()\n",
    "    windows = []\n",
    "    outliers = []\n",
    "    for window_start in range(0, len(full_seq) - window_length + 1):\n",
    "        window_end = window_start + window_length\n",
    "        window_range = range(window_start, window_end)\n",
    "        window_mid = int(round(np.median(window_range)))\n",
    "        window = list(full_seq[window_range])\n",
    "        contain_outlier = target_seq[window_mid]>0\n",
    "        outliers.append(contain_outlier)\n",
    "        windows.append(window)\n",
    "    return np.expand_dims(np.array(windows), axis=2), np.array(outliers).astype(np.bool)"
   ]
  },
  {
   "cell_type": "code",
   "execution_count": 6,
   "metadata": {},
   "outputs": [],
   "source": [
    "def create_lstm_model(hidden_dim, window_length, m=1):\n",
    "    model = Sequential()\n",
    "    model.add(Bidirectional(LSTM(hidden_dim, return_sequences=True), input_shape=(window_length, m)))\n",
    "    model.add(Dropout(p=0.2))\n",
    "    model.add(Bidirectional(LSTM(hidden_dim, return_sequences=False)))\n",
    "    model.add(Dense(1, activation='sigmoid'))    \n",
    "    model.compile(loss='binary_crossentropy', optimizer='adam')  \n",
    "    return model"
   ]
  },
  {
   "cell_type": "code",
   "execution_count": null,
   "metadata": {},
   "outputs": [],
   "source": [
    "# dat = np.load('tmpData/TK09282017Fish1-1_ex_spk_voltr.npz')\n",
    "# spkcount, voltr, devoltr = dat['arr_0'].astype('uint8'), dat['arr_1'], dat['arr_2']"
   ]
  },
  {
   "cell_type": "code",
   "execution_count": null,
   "metadata": {},
   "outputs": [],
   "source": [
    "# window_length = 40\n",
    "# x1_, contain_outliers_ = prepare_sequences(voltr, spkcount, window_length)\n",
    "# x2_, _ = prepare_sequences(devoltr, spkcount, window_length)\n",
    "# # x_ = np.concatenate((x1_, x2_), axis=2) # does not work\n",
    "# # x_ = x1_ - x2_ # does not work\n",
    "# x_ = x1_\n",
    "# # fail = True\n",
    "# # while fail:\n",
    "# #     train_test_index = np.random.rand(x_.shape[0])>0.1\n",
    "# #     if contain_outliers_[~train_test_index].mean()>0.1:\n",
    "# #         fail = False\n",
    "# train_test_index = np.random.rand(x_.shape[0])>0.3\n",
    "        \n",
    "# x_test = x_[~train_test_index, :, :]\n",
    "# y_test = contain_outliers_[~train_test_index][:, np.newaxis]\n",
    "\n",
    "# x_train = x_[train_test_index, :, :]\n",
    "# y_train = contain_outliers_[train_test_index][:, np.newaxis]"
   ]
  },
  {
   "cell_type": "code",
   "execution_count": null,
   "metadata": {},
   "outputs": [],
   "source": [
    "# hidden_dim = 60\n",
    "# m = create_lstm_model(hidden_dim, window_length, m=x_.shape[2])\n",
    "# plot_model(m, 'model.png')\n",
    "# m.fit(x_train, y_train, batch_size=64, nb_epoch=5, validation_data=(x_test, y_test))"
   ]
  },
  {
   "cell_type": "code",
   "execution_count": null,
   "metadata": {},
   "outputs": [],
   "source": [
    "# pred_x_test = m.predict(x_test)\n",
    "# sns.distplot(pred_x_test[y_test[:, 0]], label='Spike')\n",
    "# sns.distplot(pred_x_test[~y_test[:, 0]], label='None-Spike')\n",
    "# sns.despine()\n",
    "# # plt.xlim([0, 1])\n",
    "# plt.xlabel('Predition of spike probability for 40-step data')\n",
    "# plt.ylabel('Counts')\n",
    "# plt.legend()\n",
    "# plt.title('Testing data')\n",
    "# plt.show()"
   ]
  },
  {
   "cell_type": "code",
   "execution_count": null,
   "metadata": {},
   "outputs": [],
   "source": [
    "# pred_x_test = m.predict(x_)\n",
    "# sns.distplot(pred_x_test[contain_outliers_], label='Spike')\n",
    "# sns.distplot(pred_x_test[~contain_outliers_], label='None-Spike')\n",
    "# sns.despine()\n",
    "# plt.xlim([0,1])\n",
    "# plt.xlabel('Predition of spike probability for 40-step data')\n",
    "# plt.ylabel('Counts')\n",
    "# plt.legend()\n",
    "# plt.show()"
   ]
  },
  {
   "cell_type": "code",
   "execution_count": null,
   "metadata": {},
   "outputs": [],
   "source": [
    "# pred_x_test = m.predict(x_)\n",
    "# spkInWindow = pred_x_test>0.5\n",
    "# spkInWindow = spkInWindow.flatten()\n",
    "# spkInWindow[:window_length] = False"
   ]
  },
  {
   "cell_type": "code",
   "execution_count": null,
   "metadata": {},
   "outputs": [],
   "source": [
    "# voltr_ = voltr.copy()\n",
    "# spkcount_ = np.zeros(spkcount.shape)\n",
    "# for idx, nspk in enumerate(spkInWindow):\n",
    "#     if nspk:\n",
    "#         x__ = voltr_[idx:idx+window_length]\n",
    "#         x__ = x__[np.newaxis, :, np.newaxis]\n",
    "#         spk_idx = np.where(x__ == x__.max())[1][0]\n",
    "#         if spk_idx<window_length-1:\n",
    "#             spkcount_[idx+spk_idx] = True"
   ]
  },
  {
   "cell_type": "code",
   "execution_count": null,
   "metadata": {},
   "outputs": [],
   "source": [
    "# diff = voltr - devoltr\n",
    "# diff_ = diff[spkcount_.astype(np.bool)]\n",
    "# thres = np.percentile(diff_, 20)\n",
    "# spk_diff = diff > thres\n",
    "# spkcount__ = np.logical_and(spkcount_, spk_diff)"
   ]
  },
  {
   "cell_type": "code",
   "execution_count": null,
   "metadata": {},
   "outputs": [],
   "source": [
    "# spk = spkcount>0\n",
    "# plt.figure(figsize=(20, 3))\n",
    "# plt.plot(spk*voltr.max()*1.5,'o', label='Raw spike time')\n",
    "# plt.plot(spkcount__*voltr.max()*2.0,'o', label='Detected spike time')\n",
    "# plt.plot((spk != spkcount__).astype('int')*voltr.max()*2.5,'o', label='Miss matched')\n",
    "# plt.plot(voltr,'-')\n",
    "# plt.plot(devoltr,'-')\n",
    "# plt.xlabel('Frame')\n",
    "# plt.xlim([0, 1000])\n",
    "# plt.legend(loc='upper center', bbox_to_anchor=(1.1, 1))\n",
    "# sns.despine()\n",
    "# plt.show()"
   ]
  },
  {
   "cell_type": "markdown",
   "metadata": {},
   "source": [
    "## Training with all simultaneous recording data (4 cells)"
   ]
  },
  {
   "cell_type": "code",
   "execution_count": 16,
   "metadata": {},
   "outputs": [
    {
     "name": "stdout",
     "output_type": "stream",
     "text": [
      "36299\n",
      "36297\n",
      "36298\n",
      "24001\n"
     ]
    }
   ],
   "source": [
    "files = ['tmpData/TK09282017Fish1-1_ex_spk_voltr.npz', \n",
    "         'tmpData/TK09212017Fish1-1_ex_spk_voltr.npz', \n",
    "         'tmpData/TK10052017Fish2-2_ex_spk_voltr.npz',\n",
    "         'tmpData/YS_in_spk_voltr.npz']\n",
    "\n",
    "spkcount_set = np.array([])\n",
    "voltr_set = np.array([])\n",
    "devoltr_set = np.array([])\n",
    "\n",
    "for nfile in files:\n",
    "    dat = np.load(nfile)\n",
    "    spkcount, voltr, devoltr = dat['arr_0'].astype('uint8'), dat['arr_1'], dat['arr_2']\n",
    "    print(len(spkcount))\n",
    "    spkcount_set = np.concatenate((spkcount_set, spkcount))\n",
    "    voltr_set = np.concatenate((voltr_set, voltr))\n",
    "    devoltr_set = np.concatenate((devoltr_set, devoltr))"
   ]
  },
  {
   "cell_type": "code",
   "execution_count": 8,
   "metadata": {},
   "outputs": [],
   "source": [
    "window_length = 40\n",
    "x1_, contain_outliers_ = prepare_sequences(voltr_set, spkcount_set, window_length)\n",
    "x2_, _ = prepare_sequences(devoltr_set, spkcount_set, window_length)\n",
    "x_ = x1_\n",
    "train_test_index = np.random.rand(x_.shape[0])>0.3\n",
    "x_test = x_[~train_test_index, :, :]\n",
    "y_test = contain_outliers_[~train_test_index][:, np.newaxis]\n",
    "x_train = x_[train_test_index, :, :]\n",
    "y_train = contain_outliers_[train_test_index][:, np.newaxis]"
   ]
  },
  {
   "cell_type": "code",
   "execution_count": 9,
   "metadata": {},
   "outputs": [
    {
     "name": "stdout",
     "output_type": "stream",
     "text": [
      "WARNING:tensorflow:From /groups/ahrens/home/weiz/anaconda3/lib/python3.6/site-packages/keras/backend/tensorflow_backend.py:1247: calling reduce_sum (from tensorflow.python.ops.math_ops) with keep_dims is deprecated and will be removed in a future version.\n",
      "Instructions for updating:\n",
      "keep_dims is deprecated, use keepdims instead\n",
      "WARNING:tensorflow:From /groups/ahrens/home/weiz/anaconda3/lib/python3.6/site-packages/keras/backend/tensorflow_backend.py:1349: calling reduce_mean (from tensorflow.python.ops.math_ops) with keep_dims is deprecated and will be removed in a future version.\n",
      "Instructions for updating:\n",
      "keep_dims is deprecated, use keepdims instead\n",
      "Train on 92990 samples, validate on 39866 samples\n",
      "Epoch 1/5\n",
      "92990/92990 [==============================] - 209s 2ms/step - loss: 0.4122 - val_loss: 0.4197\n",
      "Epoch 2/5\n",
      "92990/92990 [==============================] - 201s 2ms/step - loss: 0.2792 - val_loss: 0.2374\n",
      "Epoch 3/5\n",
      "92990/92990 [==============================] - 202s 2ms/step - loss: 0.2366 - val_loss: 0.2246\n",
      "Epoch 4/5\n",
      "92990/92990 [==============================] - 206s 2ms/step - loss: 0.2286 - val_loss: 0.2263\n",
      "Epoch 5/5\n",
      "92990/92990 [==============================] - 205s 2ms/step - loss: 0.2257 - val_loss: 0.2242\n"
     ]
    },
    {
     "data": {
      "text/plain": [
       "<keras.callbacks.History at 0x2baa61a11d30>"
      ]
     },
     "execution_count": 9,
     "metadata": {},
     "output_type": "execute_result"
    }
   ],
   "source": [
    "hidden_dim = 100\n",
    "m = create_lstm_model(hidden_dim, window_length, m=x_.shape[2])\n",
    "m.fit(x_train, y_train, batch_size=64, nb_epoch=5, validation_data=(x_test, y_test))"
   ]
  },
  {
   "cell_type": "code",
   "execution_count": 13,
   "metadata": {},
   "outputs": [
    {
     "data": {
      "image/png": "[encoded data removed]",
      "text/plain": [
       "<matplotlib.figure.Figure at 0x2baa61a11978>"
      ]
     },
     "metadata": {},
     "output_type": "display_data"
    }
   ],
   "source": [
    "pred_x_test = m.predict(x_test) #x_\n",
    "contain_outliers__ = contain_outliers_[~train_test_index]\n",
    "sns.distplot(pred_x_test[contain_outliers__], label='Spike')\n",
    "sns.distplot(pred_x_test[~contain_outliers__], label='None-Spike')\n",
    "sns.despine()\n",
    "plt.xlim([0,1])\n",
    "plt.xlabel('Predition of spike probability for 40-step data')\n",
    "plt.ylabel('Counts')\n",
    "plt.legend()\n",
    "plt.show()"
   ]
  },
  {
   "cell_type": "code",
   "execution_count": 11,
   "metadata": {},
   "outputs": [],
   "source": [
    "pred_x_test = m.predict(x_)\n",
    "spkInWindow = pred_x_test>0.4\n",
    "spkInWindow = spkInWindow.flatten()\n",
    "spkInWindow[:window_length] = False\n",
    "\n",
    "voltr_ = voltr_set.copy()\n",
    "spkcount_ = np.zeros(spkcount_set.shape)\n",
    "for idx, nspk in enumerate(spkInWindow):\n",
    "    if nspk:\n",
    "        x__ = voltr_[idx:idx+window_length]\n",
    "        spk_idx = peakutils.indexes(x__, thres=.9, min_dist=10)\n",
    "        # max only -- #np.where(x__ == x__.max())[1][0]\n",
    "        spkcount_[idx+spk_idx] = True\n",
    "\n",
    "diff = voltr_set - devoltr_set\n",
    "diff_ = diff[spkcount_.astype(np.bool)]\n",
    "thres = np.percentile(diff_, 20)\n",
    "spk_diff = diff > thres\n",
    "spkcount__ = np.logical_and(spkcount_, spk_diff)\n",
    "# spkcount__ = spkcount_.copy()\n",
    "spk = spkcount_set>0"
   ]
  },
  {
   "cell_type": "code",
   "execution_count": 50,
   "metadata": {},
   "outputs": [
    {
     "data": {
      "image/png": "[encoded data removed]",
      "text/plain": [
       "<matplotlib.figure.Figure at 0x2bab98ebac50>"
      ]
     },
     "metadata": {},
     "output_type": "display_data"
    }
   ],
   "source": [
    "plt.figure(figsize=(20, 3))\n",
    "plt.plot(voltr_,'-')\n",
    "plot_spks(plt, spk, voltr.max()*1.5, label='Raw spike time')\n",
    "plot_spks(plt, spkcount__, voltr.max()*2.0, label='Detected spike time')\n",
    "plt.xlabel('Frame')\n",
    "plt.xlim([25000, 30000])\n",
    "# plt.legend(loc='upper center', bbox_to_anchor=(1.1, 1))\n",
    "sns.despine()\n",
    "plt.show()"
   ]
  },
  {
   "cell_type": "code",
   "execution_count": 57,
   "metadata": {},
   "outputs": [
    {
     "name": "stdout",
     "output_type": "stream",
     "text": [
      "Frac of precise aligned spikes: 132028 / 132895\n",
      "Frac of 1 frame-difference spikes: 476 / 132895\n",
      "Frac of <6 frame-difference spikes: 74 / 132895\n",
      "Remaining difference: 317 / 132895\n",
      "Total spikes 766\n",
      "Found spikes 562\n",
      "Unfound spikes 204\n",
      "Extra spikes 161\n"
     ]
    }
   ],
   "source": [
    "# matched = spkcount__[-24001:] == spk[-24001:]\n",
    "# tot_ = len(spk[-24001:])\n",
    "range_ = range(len(spkcount__))\n",
    "matched = spkcount__[range_] == spk[range_]\n",
    "tot_ = len(spk[range_])\n",
    "totspk = spk[range_].sum()\n",
    "totspk_ = spkcount__[range_].sum()\n",
    "\n",
    "matched_ = (matched).sum()\n",
    "idx = np.array(np.where(~matched)).flatten()\n",
    "idx_ = idx[1:] - idx[:-1]\n",
    "match1_ = (idx_==1).sum()*2\n",
    "match5_ = np.logical_and(idx_>1, idx_<6).sum()*2\n",
    "\n",
    "TPspk = 0\n",
    "winSize = 3\n",
    "for nspk in np.array(np.where(spk[range_])).flatten():\n",
    "    if spkcount__[max(0, nspk-winSize):min(nspk+winSize, max(range_))].sum()>0:\n",
    "        TPspk +=1\n",
    "\n",
    "# TPspk = (match1_ + match5_)//2 + spk[:36299][matched_].sum()\n",
    "\n",
    "\n",
    "\n",
    "print('Frac of precise aligned spikes: %d / %d'%(matched_, tot_))\n",
    "print('Frac of 1 frame-difference spikes: %d / %d'%(match1_, tot_))\n",
    "print('Frac of <6 frame-difference spikes: %d / %d'%(match5_, tot_))\n",
    "print('Remaining difference: %d / %d'%(tot_ - matched_ - match1_ - match5_, tot_))\n",
    "print('Total spikes %d'%(totspk))\n",
    "print('Found spikes %d'%(TPspk))\n",
    "print('Unfound spikes %d'%(totspk - TPspk))\n",
    "print('Extra spikes %d'%(totspk_ - TPspk))"
   ]
  },
  {
   "cell_type": "code",
   "execution_count": 76,
   "metadata": {},
   "outputs": [
    {
     "name": "stdout",
     "output_type": "stream",
     "text": [
      "-------------------\n",
      "Result of Cell #1\n",
      "Total ephys spikes 338\n",
      "Total detected spikes 423\n",
      "Found spikes 309\n",
      "Unfound spikes 29\n",
      "Extra spikes 114\n",
      "-------------------\n",
      "Result of Cell #2\n",
      "Total ephys spikes 306\n",
      "Total detected spikes 146\n",
      "Found spikes 135\n",
      "Unfound spikes 171\n",
      "Extra spikes 11\n",
      "-------------------\n",
      "Result of Cell #3\n",
      "Total ephys spikes 76\n",
      "Total detected spikes 108\n",
      "Found spikes 72\n",
      "Unfound spikes 4\n",
      "Extra spikes 36\n",
      "-------------------\n",
      "Result of Cell #4\n",
      "Total ephys spikes 46\n",
      "Total detected spikes 46\n",
      "Found spikes 46\n",
      "Unfound spikes 0\n",
      "Extra spikes 0\n"
     ]
    }
   ],
   "source": [
    "cell_frames = [0, 36299, 36297, 36298, 24001]\n",
    "cell_frames = np.cumsum(cell_frames)\n",
    "\n",
    "for ncell in range(4):\n",
    "    range_ = range(cell_frames[ncell],cell_frames[ncell+1])\n",
    "    spk_in_range = spk[range_]\n",
    "    spkc_in_range = spkcount__[range_]\n",
    "    matched = spk_in_range == spkc_in_range\n",
    "    tot_ = len(spk_in_range)\n",
    "    totspk = spk_in_range.sum()\n",
    "    totspk_ = spkc_in_range.sum()\n",
    "\n",
    "    matched_ = (matched).sum()\n",
    "    idx = np.array(np.where(~matched)).flatten()\n",
    "    idx_ = idx[1:] - idx[:-1]\n",
    "    match1_ = (idx_==1).sum()*2\n",
    "    match5_ = np.logical_and(idx_>1, idx_<6).sum()*2\n",
    "\n",
    "    TPspk = 0\n",
    "    winSize = 3\n",
    "    for nspk in np.array(np.where(spk_in_range)).flatten():\n",
    "        if spkc_in_range[max(0, nspk-winSize):min(nspk+winSize, len(spkc_in_range))].sum()>0:\n",
    "            TPspk +=1\n",
    "    print('-------------------')\n",
    "    print('Result of Cell #%d'%(ncell+1))\n",
    "    print('Total ephys spikes %d'%(totspk))\n",
    "    print('Total detected spikes %d'%(totspk_))\n",
    "    print('Found spikes %d'%(TPspk))\n",
    "    print('Unfound spikes %d'%(totspk - TPspk))\n",
    "    print('Extra spikes %d'%(totspk_ - TPspk))\n",
    "   "
   ]
  },
  {
   "cell_type": "code",
   "execution_count": null,
   "metadata": {},
   "outputs": [],
   "source": []
  }
 ],
 "metadata": {
  "kernelspec": {
   "display_name": "Python 3",
   "language": "python",
   "name": "python3"
  },
  "language_info": {
   "codemirror_mode": {
    "name": "ipython",
    "version": 3
   },
   "file_extension": ".py",
   "mimetype": "text/x-python",
   "name": "python",
   "nbconvert_exporter": "python",
   "pygments_lexer": "ipython3",
   "version": "3.6.4"
  }
 },
 "nbformat": 4,
 "nbformat_minor": 2
}
